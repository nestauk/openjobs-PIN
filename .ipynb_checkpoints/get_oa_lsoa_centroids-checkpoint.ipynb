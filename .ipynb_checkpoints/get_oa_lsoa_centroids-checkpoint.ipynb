{
 "cells": [
  {
   "cell_type": "markdown",
   "metadata": {},
   "source": [
    "## Compute OA and LSOA centroids\n",
    "This notebook is to compute the centroids for each OA and LSOA, and store them as datasets to be used later on. The centroids are computed using the ONS postcode directory (February 2019). The same dataset also offers a lookup between OAs/LSOAs and TTWAs and this information is stored as well.\n",
    "\n",
    "For the future it would be good to change how LSOA centroid are computed and make a sum over the OA centroids weighted by population (over the OAs rather than postocode, because I think census population data is at the level of the OAs)."
   ]
  },
  {
   "cell_type": "code",
   "execution_count": 1,
   "metadata": {},
   "outputs": [],
   "source": [
    "import urllib.request, json\n",
    "import requests\n",
    "import pandas as pd\n",
    "import numpy as np\n",
    "import pickle\n",
    "import time\n",
    "import matplotlib.pyplot as plt\n",
    "import os"
   ]
  },
  {
   "cell_type": "code",
   "execution_count": 2,
   "metadata": {},
   "outputs": [],
   "source": [
    "# relevant folders\n",
    "folder1= '/Users/stefgarasto/Local-Data/'\n",
    "folder2 = '/Users/stefgarasto/Google Drive/Documents/data/'\n",
    "folder3 = '/Users/stefgarasto/Google Drive/Documents/results/'"
   ]
  },
  {
   "cell_type": "code",
   "execution_count": 3,
   "metadata": {},
   "outputs": [],
   "source": [
    "# relevant files\n",
    "ons_pc_file = folder2 + 'ONS/ONS-Postcode-Directory-Latest-Centroids.csv'\n",
    "pop_density_file = folder2 + 'ONS/population_density1.csv'\n",
    "ttwa_file = folder2 + 'ONS/Travel_to_Work_Areas_December_2011_Boundaries.csv'"
   ]
  },
  {
   "cell_type": "code",
   "execution_count": 4,
   "metadata": {},
   "outputs": [],
   "source": [
    "# first, load the list of all TTWA\n",
    "ttwa_data = pd.read_csv(ttwa_file)\n",
    "# first column is ttwa codes, second column is ttwa names"
   ]
  },
  {
   "cell_type": "code",
   "execution_count": 5,
   "metadata": {},
   "outputs": [
    {
     "name": "stderr",
     "output_type": "stream",
     "text": [
      "/Users/stefgarasto/miniconda3/envs/transport/lib/python3.6/site-packages/IPython/core/interactiveshell.py:3049: DtypeWarning: Columns (32,42,47,52) have mixed types. Specify dtype option on import or set low_memory=False.\n",
      "  interactivity=interactivity, compiler=compiler, result=result)\n"
     ]
    },
    {
     "data": {
      "text/html": [
       "<div>\n",
       "<style scoped>\n",
       "    .dataframe tbody tr th:only-of-type {\n",
       "        vertical-align: middle;\n",
       "    }\n",
       "\n",
       "    .dataframe tbody tr th {\n",
       "        vertical-align: top;\n",
       "    }\n",
       "\n",
       "    .dataframe thead th {\n",
       "        text-align: right;\n",
       "    }\n",
       "</style>\n",
       "<table border=\"1\" class=\"dataframe\">\n",
       "  <thead>\n",
       "    <tr style=\"text-align: right;\">\n",
       "      <th></th>\n",
       "      <th>X</th>\n",
       "      <th>Y</th>\n",
       "      <th>objectid</th>\n",
       "      <th>pcd</th>\n",
       "      <th>pcd2</th>\n",
       "      <th>pcds</th>\n",
       "      <th>ttwa</th>\n",
       "      <th>oa01</th>\n",
       "      <th>lsoa01</th>\n",
       "      <th>msoa01</th>\n",
       "      <th>oac01</th>\n",
       "      <th>oa11</th>\n",
       "      <th>lsoa11</th>\n",
       "      <th>msoa11</th>\n",
       "      <th>oac11</th>\n",
       "      <th>lat</th>\n",
       "      <th>long</th>\n",
       "    </tr>\n",
       "  </thead>\n",
       "  <tbody>\n",
       "    <tr>\n",
       "      <th>0</th>\n",
       "      <td>-2.073663</td>\n",
       "      <td>57.137910</td>\n",
       "      <td>1001</td>\n",
       "      <td>AB1 3QF</td>\n",
       "      <td>AB1  3QF</td>\n",
       "      <td>AB1 3QF</td>\n",
       "      <td>S22000047</td>\n",
       "      <td>S00000139</td>\n",
       "      <td>S01000082</td>\n",
       "      <td>S02000015</td>\n",
       "      <td>6B1</td>\n",
       "      <td>S00089106</td>\n",
       "      <td>S01006631</td>\n",
       "      <td>S02001258</td>\n",
       "      <td>7A1</td>\n",
       "      <td>57.137926</td>\n",
       "      <td>-2.073655</td>\n",
       "    </tr>\n",
       "    <tr>\n",
       "      <th>1</th>\n",
       "      <td>-2.078354</td>\n",
       "      <td>57.137306</td>\n",
       "      <td>1002</td>\n",
       "      <td>AB1 3QH</td>\n",
       "      <td>AB1  3QH</td>\n",
       "      <td>AB1 3QH</td>\n",
       "      <td>S22000047</td>\n",
       "      <td>S00000137</td>\n",
       "      <td>S01000084</td>\n",
       "      <td>S02000012</td>\n",
       "      <td>2B1</td>\n",
       "      <td>S00089104</td>\n",
       "      <td>S01006627</td>\n",
       "      <td>S02001257</td>\n",
       "      <td>7B3</td>\n",
       "      <td>57.137321</td>\n",
       "      <td>-2.078346</td>\n",
       "    </tr>\n",
       "    <tr>\n",
       "      <th>2</th>\n",
       "      <td>-2.079230</td>\n",
       "      <td>57.137287</td>\n",
       "      <td>1003</td>\n",
       "      <td>AB1 3QJ</td>\n",
       "      <td>AB1  3QJ</td>\n",
       "      <td>AB1 3QJ</td>\n",
       "      <td>S22000047</td>\n",
       "      <td>S00000137</td>\n",
       "      <td>S01000084</td>\n",
       "      <td>S02000012</td>\n",
       "      <td>2B1</td>\n",
       "      <td>S00089104</td>\n",
       "      <td>S01006627</td>\n",
       "      <td>S02001257</td>\n",
       "      <td>7B3</td>\n",
       "      <td>57.137303</td>\n",
       "      <td>-2.079222</td>\n",
       "    </tr>\n",
       "    <tr>\n",
       "      <th>3</th>\n",
       "      <td>-2.080454</td>\n",
       "      <td>57.137825</td>\n",
       "      <td>1004</td>\n",
       "      <td>AB1 3QL</td>\n",
       "      <td>AB1  3QL</td>\n",
       "      <td>AB1 3QL</td>\n",
       "      <td>S22000047</td>\n",
       "      <td>S00001535</td>\n",
       "      <td>S01000084</td>\n",
       "      <td>S02000012</td>\n",
       "      <td>5C2</td>\n",
       "      <td>S00090590</td>\n",
       "      <td>S01006627</td>\n",
       "      <td>S02001257</td>\n",
       "      <td>3C2</td>\n",
       "      <td>57.137841</td>\n",
       "      <td>-2.080446</td>\n",
       "    </tr>\n",
       "    <tr>\n",
       "      <th>4</th>\n",
       "      <td>-2.080287</td>\n",
       "      <td>57.137241</td>\n",
       "      <td>1005</td>\n",
       "      <td>AB1 3QN</td>\n",
       "      <td>AB1  3QN</td>\n",
       "      <td>AB1 3QN</td>\n",
       "      <td>S22000047</td>\n",
       "      <td>S00001535</td>\n",
       "      <td>S01000084</td>\n",
       "      <td>S02000012</td>\n",
       "      <td>5C2</td>\n",
       "      <td>S00090590</td>\n",
       "      <td>S01006627</td>\n",
       "      <td>S02001257</td>\n",
       "      <td>3C2</td>\n",
       "      <td>57.137257</td>\n",
       "      <td>-2.080279</td>\n",
       "    </tr>\n",
       "  </tbody>\n",
       "</table>\n",
       "</div>"
      ],
      "text/plain": [
       "          X          Y  objectid      pcd      pcd2     pcds       ttwa  \\\n",
       "0 -2.073663  57.137910      1001  AB1 3QF  AB1  3QF  AB1 3QF  S22000047   \n",
       "1 -2.078354  57.137306      1002  AB1 3QH  AB1  3QH  AB1 3QH  S22000047   \n",
       "2 -2.079230  57.137287      1003  AB1 3QJ  AB1  3QJ  AB1 3QJ  S22000047   \n",
       "3 -2.080454  57.137825      1004  AB1 3QL  AB1  3QL  AB1 3QL  S22000047   \n",
       "4 -2.080287  57.137241      1005  AB1 3QN  AB1  3QN  AB1 3QN  S22000047   \n",
       "\n",
       "        oa01     lsoa01     msoa01 oac01       oa11     lsoa11     msoa11  \\\n",
       "0  S00000139  S01000082  S02000015   6B1  S00089106  S01006631  S02001258   \n",
       "1  S00000137  S01000084  S02000012   2B1  S00089104  S01006627  S02001257   \n",
       "2  S00000137  S01000084  S02000012   2B1  S00089104  S01006627  S02001257   \n",
       "3  S00001535  S01000084  S02000012   5C2  S00090590  S01006627  S02001257   \n",
       "4  S00001535  S01000084  S02000012   5C2  S00090590  S01006627  S02001257   \n",
       "\n",
       "  oac11        lat      long  \n",
       "0   7A1  57.137926 -2.073655  \n",
       "1   7B3  57.137321 -2.078346  \n",
       "2   7B3  57.137303 -2.079222  \n",
       "3   3C2  57.137841 -2.080446  \n",
       "4   3C2  57.137257 -2.080279  "
      ]
     },
     "execution_count": 5,
     "metadata": {},
     "output_type": "execute_result"
    }
   ],
   "source": [
    "# load the lookup table between postcodes, OAs, LSOAa and TTWAs\n",
    "ons_pc = pd.read_csv(ons_pc_file)\n",
    "# only keep relevant columns\n",
    "ons_pc = ons_pc[['X', 'Y', 'objectid', 'pcd', 'pcd2', 'pcds', 'ttwa', 'oa01',\n",
    "       'lsoa01', 'msoa01', 'oac01', 'oa11', 'lsoa11', 'msoa11',\n",
    "       'oac11', 'lat', 'long']]\n",
    "# show a snippet\n",
    "ons_pc.head()"
   ]
  },
  {
   "cell_type": "code",
   "execution_count": 6,
   "metadata": {},
   "outputs": [
    {
     "name": "stdout",
     "output_type": "stream",
     "text": [
      "Done in 5.404177 s\n"
     ]
    },
    {
     "data": {
      "text/plain": [
       "count         42621\n",
       "unique          230\n",
       "top       E30000234\n",
       "freq           4777\n",
       "Name: ttwa, dtype: object"
      ]
     },
     "execution_count": 6,
     "metadata": {},
     "output_type": "execute_result"
    }
   ],
   "source": [
    "# group by LSOAs and get centroids\n",
    "# Note: the centroids are taken by averaging over the centroids of all postcodes in that LSOA. Ideally, we would\n",
    "# instead compute a population weighted average - however, census data is at most at the OA level, so we could\n",
    "# at most compute the OA centroids first, then average those multiplied by population density (TODO-next)\n",
    "lsoa_list = []\n",
    "lsoa_lat = []\n",
    "lsoa_long = []\n",
    "t0 = time.time()\n",
    "lsoa_groups = ons_pc.groupby('lsoa11')\n",
    "# get average lat and long\n",
    "lsoa_data = lsoa_groups[['lat','long']].agg(np.mean)\n",
    "# get the unique TTWA for each LSOA (see check done below)\n",
    "lsoa_data = lsoa_data.join(lsoa_groups['ttwa'].agg(pd.Series.unique))\n",
    "\n",
    "# check that the same lsoa always belongs to the same ttwa\n",
    "# There are none, and there's no need to do it more than once\n",
    "#for name,group in lsoa_groups: \n",
    "#    if not group['ttwa'].describe()['unique'] == 1:\n",
    "#        print('LSOA {} is in more than one TTWA'.format(name))\n",
    "print('Done in {:4f} s'.format(time.time() - t0))\n",
    "lsoa_data['ttwa'].describe()"
   ]
  },
  {
   "cell_type": "code",
   "execution_count": 7,
   "metadata": {},
   "outputs": [
    {
     "name": "stdout",
     "output_type": "stream",
     "text": [
      "Done in 57.190902 s\n"
     ]
    },
    {
     "data": {
      "text/html": [
       "<div>\n",
       "<style scoped>\n",
       "    .dataframe tbody tr th:only-of-type {\n",
       "        vertical-align: middle;\n",
       "    }\n",
       "\n",
       "    .dataframe tbody tr th {\n",
       "        vertical-align: top;\n",
       "    }\n",
       "\n",
       "    .dataframe thead th {\n",
       "        text-align: right;\n",
       "    }\n",
       "</style>\n",
       "<table border=\"1\" class=\"dataframe\">\n",
       "  <thead>\n",
       "    <tr style=\"text-align: right;\">\n",
       "      <th></th>\n",
       "      <th>lsoa11</th>\n",
       "      <th>ttwa</th>\n",
       "    </tr>\n",
       "  </thead>\n",
       "  <tbody>\n",
       "    <tr>\n",
       "      <th>count</th>\n",
       "      <td>232034</td>\n",
       "      <td>232034</td>\n",
       "    </tr>\n",
       "    <tr>\n",
       "      <th>unique</th>\n",
       "      <td>42621</td>\n",
       "      <td>230</td>\n",
       "    </tr>\n",
       "    <tr>\n",
       "      <th>top</th>\n",
       "      <td>S01010390</td>\n",
       "      <td>E30000234</td>\n",
       "    </tr>\n",
       "    <tr>\n",
       "      <th>freq</th>\n",
       "      <td>14</td>\n",
       "      <td>24840</td>\n",
       "    </tr>\n",
       "  </tbody>\n",
       "</table>\n",
       "</div>"
      ],
      "text/plain": [
       "           lsoa11       ttwa\n",
       "count      232034     232034\n",
       "unique      42621        230\n",
       "top     S01010390  E30000234\n",
       "freq           14      24840"
      ]
     },
     "execution_count": 7,
     "metadata": {},
     "output_type": "execute_result"
    }
   ],
   "source": [
    "# group by OAs and get centroids\n",
    "# Note: the centroids are taken by averaging over the centroids of all postcodes in that OA. We will use this only \n",
    "# for calls to the lmiforall API, since they are free - we can then average distances and occupations breakdown across\n",
    "# LSOAs if needed\n",
    "oa_list = []\n",
    "oa_lat = []\n",
    "oa_long = []\n",
    "t0 = time.time()\n",
    "oa_groups = ons_pc.groupby('oa11')\n",
    "# get average lat and long\n",
    "oa_data = oa_groups[['lat','long']].agg(np.mean)\n",
    "# get the unique TTWA for each LSOA (if it is not unique it should throw and error)\n",
    "oa_data = oa_data.join(oa_groups[['ttwa','lsoa11']].agg(pd.Series.unique))\n",
    "print('Done in {:4f} s'.format(time.time() - t0))\n",
    "oa_data[['lsoa11','ttwa']].describe()"
   ]
  },
  {
   "cell_type": "code",
   "execution_count": 8,
   "metadata": {},
   "outputs": [
    {
     "name": "stdout",
     "output_type": "stream",
     "text": [
      "Saving the OA data\n",
      "Saving the LSOA data\n"
     ]
    }
   ],
   "source": [
    "# save the extracted dictionaries if needed\n",
    "exists = os.path.isfile(folder3 + 'PIN/oa_centroids_dictionary.pickle')\n",
    "if not exists:\n",
    "    print('Saving the OA data')\n",
    "    oa_data.to_pickle(folder3 + 'PIN/oa_centroids_dictionary.pickle')\n",
    "exists = os.path.isfile(folder3 + 'PIN/lsoa_centroids_dictionary.pickle')\n",
    "if not exists:\n",
    "    print('Saving the LSOA data')\n",
    "    lsoa_data.to_pickle(folder3 + 'PIN/lsoa_centroids_dictionary.pickle')\n",
    "\n",
    "# eliminate the ons_pc dataset - now it's not needed anymore\n",
    "ons_pc = None"
   ]
  },
  {
   "cell_type": "code",
   "execution_count": null,
   "metadata": {},
   "outputs": [],
   "source": [
    "'''\n",
    "Check memory usage of all variables\n",
    "'''\n",
    "\n",
    "import sys\n",
    "\n",
    "# These are the usual ipython objects, including this one you are creating\n",
    "ipython_vars = ['In', 'Out', 'exit', 'quit', 'get_ipython', 'ipython_vars']\n",
    "\n",
    "# Get a sorted list of the objects and their sizes\n",
    "sorted([(x, sys.getsizeof(globals().get(x))) for x in dir() if not x.startswith('_') \n",
    "        and x not in sys.modules and x not in ipython_vars], key=lambda x: x[1], reverse=True)\n"
   ]
  },
  {
   "cell_type": "code",
   "execution_count": 30,
   "metadata": {},
   "outputs": [],
   "source": []
  },
  {
   "cell_type": "code",
   "execution_count": null,
   "metadata": {},
   "outputs": [],
   "source": []
  },
  {
   "cell_type": "code",
   "execution_count": null,
   "metadata": {},
   "outputs": [],
   "source": []
  },
  {
   "cell_type": "code",
   "execution_count": null,
   "metadata": {},
   "outputs": [],
   "source": []
  },
  {
   "cell_type": "code",
   "execution_count": null,
   "metadata": {},
   "outputs": [],
   "source": []
  },
  {
   "cell_type": "code",
   "execution_count": null,
   "metadata": {},
   "outputs": [],
   "source": []
  },
  {
   "cell_type": "code",
   "execution_count": null,
   "metadata": {},
   "outputs": [],
   "source": []
  },
  {
   "cell_type": "code",
   "execution_count": null,
   "metadata": {},
   "outputs": [],
   "source": []
  },
  {
   "cell_type": "code",
   "execution_count": null,
   "metadata": {},
   "outputs": [],
   "source": []
  },
  {
   "cell_type": "code",
   "execution_count": null,
   "metadata": {},
   "outputs": [],
   "source": []
  },
  {
   "cell_type": "code",
   "execution_count": null,
   "metadata": {},
   "outputs": [],
   "source": []
  },
  {
   "cell_type": "code",
   "execution_count": null,
   "metadata": {},
   "outputs": [],
   "source": []
  },
  {
   "cell_type": "code",
   "execution_count": null,
   "metadata": {},
   "outputs": [],
   "source": []
  },
  {
   "cell_type": "code",
   "execution_count": null,
   "metadata": {},
   "outputs": [],
   "source": []
  },
  {
   "cell_type": "code",
   "execution_count": null,
   "metadata": {},
   "outputs": [],
   "source": []
  },
  {
   "cell_type": "code",
   "execution_count": null,
   "metadata": {},
   "outputs": [],
   "source": []
  },
  {
   "cell_type": "code",
   "execution_count": null,
   "metadata": {},
   "outputs": [],
   "source": []
  }
 ],
 "metadata": {
  "kernelspec": {
   "display_name": "Python 3",
   "language": "python",
   "name": "python3"
  },
  "language_info": {
   "codemirror_mode": {
    "name": "ipython",
    "version": 3
   },
   "file_extension": ".py",
   "mimetype": "text/x-python",
   "name": "python",
   "nbconvert_exporter": "python",
   "pygments_lexer": "ipython3",
   "version": "3.6.8"
  }
 },
 "nbformat": 4,
 "nbformat_minor": 2
}
