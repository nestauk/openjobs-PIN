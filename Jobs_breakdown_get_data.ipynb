{
 "cells": [
  {
   "cell_type": "markdown",
   "metadata": {},
   "source": [
    "## Jobs breakdown per OA\n",
    "This notebook is to call the lmiforall API that returns data on occupation breakdown from the 2011 census.\n",
    "\n",
    "The centroids for each OA, or LSOA, are computed in another script (get_oa_lsoa_centroids) using the ONS postcode directory (February 2019). The same dataset also offers a lookup between OAs and TTWAs."
   ]
  },
  {
   "cell_type": "code",
   "execution_count": 1,
   "metadata": {},
   "outputs": [],
   "source": [
    "import urllib.request, json\n",
    "import requests\n",
    "import pandas as pd\n",
    "import numpy as np\n",
    "import pickle\n",
    "import time\n",
    "import matplotlib.pyplot as plt\n",
    "import os\n",
    "import seaborn as sns\n",
    "# set the default to darkgrid\n",
    "sns.set_style('darkgrid')"
   ]
  },
  {
   "cell_type": "code",
   "execution_count": 2,
   "metadata": {},
   "outputs": [],
   "source": [
    "from all_filenames import *"
   ]
  },
  {
   "cell_type": "code",
   "execution_count": null,
   "metadata": {},
   "outputs": [],
   "source": []
  },
  {
   "cell_type": "code",
   "execution_count": 3,
   "metadata": {},
   "outputs": [
    {
     "name": "stdout",
     "output_type": "stream",
     "text": [
      "There are 55 TTWAs with less than 40 LSOAs.\n"
     ]
    }
   ],
   "source": [
    "# first, load the list of all TTWA\n",
    "ttwa_data = pd.read_csv(ttwa_file)\n",
    "# first column is ttwa codes, second column is ttwa names\n",
    "ttwa_info11 = pd.read_excel(ttwa_info11_file)\n",
    "ttwa_info16 = pd.read_excel(ttwa_info16_file)\n",
    "#print(ttwa_info11.tail(n=3))\n",
    "#print(ttwa_info16.tail(n=3))\n",
    "\n",
    "# get small TTWAs\n",
    "small_ttwas = list(ttwa_info11['ttwa11cd'][ttwa_info11['LSOAs']<40])\n",
    "print('There are {} TTWAs with less than 40 LSOAs.'.format(len(small_ttwas)))"
   ]
  },
  {
   "cell_type": "code",
   "execution_count": 4,
   "metadata": {},
   "outputs": [
    {
     "name": "stdout",
     "output_type": "stream",
     "text": [
      "Loadin the OA data\n"
     ]
    }
   ],
   "source": [
    "# load the extracted dictionaries of OA centroids\n",
    "loadOA = True\n",
    "loadLSOA = False\n",
    "oa_path = folder4 + 'oa_centroids_dictionary.pickle'\n",
    "lsoa_path = folder4 + 'lsoa_centroids_dictionary.pickle'\n",
    "exists = os.path.isfile(oa_path)\n",
    "if exists and loadOA:\n",
    "    print('Loadin the OA data')\n",
    "    oa_data = pd.read_pickle(oa_path)\n",
    "\n",
    "exists = os.path.isfile(lsoa_path)\n",
    "if exists and loadLSOA:\n",
    "    print('Loading the LSOA data')\n",
    "    lsoa_data = pd.read_pickle(lsoa_path)\n"
   ]
  },
  {
   "cell_type": "code",
   "execution_count": 5,
   "metadata": {},
   "outputs": [],
   "source": [
    "# file where I'm storing all the information\n",
    "save_oa_file = folder3 + 'PIN/oa_jobs_breakdown.pickle'"
   ]
  },
  {
   "cell_type": "code",
   "execution_count": 6,
   "metadata": {},
   "outputs": [
    {
     "name": "stdout",
     "output_type": "stream",
     "text": [
      "232034\n"
     ]
    }
   ],
   "source": [
    "APICALL = False\n",
    "print(len(oa_data))\n",
    "if APICALL:\n",
    "    \n",
    "    # for each OA, call the LMIforALL API:    \n",
    "    oa_number_of_jobs2 = {}\n",
    "    oa_jobs_breakdown2 = {}\n",
    "    jobs_socGroups = {}\n",
    "    \n",
    "    # it will take multiple hours to gather them all. So, need to create breakpoints\n",
    "    # if file exists load it and start from where it left off\n",
    "    exists = os.path.isfile(save_oa_file)\n",
    "    start_oa = 0\n",
    "\n",
    "    #TODO: actually, there is no need to have the entire pre-stored list while making the new calls, \n",
    "    # only need to join the old and new dictionaries in the end.\n",
    "    if exists:\n",
    "        print('Loading already downloaded OAs')\n",
    "        with open(save_oa_file,'rb') as f:\n",
    "            # I only need to load the indices where we left off last time\n",
    "            _,_,_,jobs_socGroups,_,start_oa = pickle.load(f)\n",
    "        start_oa += 1\n",
    "    end_oa = min(start_oa + 10000, len(oa_data.index))\n",
    "    print(start_oa, end_oa)\n",
    "    if end_oa - start_oa<1:\n",
    "        stop\n",
    "    t0 = time.time()\n",
    "    # loop through all OAs and call the LMIforALL API\n",
    "    N = 499\n",
    "    missing_oas = []\n",
    "    \n",
    "    for ii,oa in enumerate(oa_data.index[start_oa:end_oa]):\n",
    "        if oa[0] in ['L', 'M']:\n",
    "            # exclude these two OAs. They are channel islands and isle of Man, respectively, but they seem to have \n",
    "            # wrong latitude and longitude. I'll check them out better later\n",
    "            continue\n",
    "        \n",
    "        try:\n",
    "            urlname = 'http://api.lmiforall.org.uk/api/v1/census/jobs_breakdown?area={:6f}%2C{:6f}'.format(\n",
    "            oa_data.loc[oa]['lat'],oa_data.loc[oa]['long'])\n",
    "            out = requests.get(urlname).json()\n",
    "            oa_number_of_jobs2[oa] = out['totalJobs']\n",
    "            out = out['jobsBreakdown']\n",
    "            tmp = {}\n",
    "            for itmp in out:\n",
    "                # use the socGroup as the key (adding value or pecentage), so that then each SOC will become a column\n",
    "                tmp[itmp['socGroup']+'_value'] = itmp['value']\n",
    "                tmp[itmp['socGroup']+'_percentage'] = itmp['percentage']\n",
    "                # at the same time, keep a list of names associated with socgroups\n",
    "                jobs_socGroups[itmp['socGroup']] = itmp['description']\n",
    "            oa_jobs_breakdown2[oa] = tmp\n",
    "            if ii%(N+1) == N:\n",
    "                print('Done with the last {} OAs. It took {:4f} s'.format(N+1, time.time() - t0))\n",
    "                t0 = time.time()\n",
    "        except:\n",
    "            missing_oas.append(oa)\n",
    "            continue\n",
    "\n",
    "    t0 = time.time()\n",
    "    # reload the  previously filled dictionary\n",
    "    if exists:\n",
    "        with open(save_oa_file, 'rb') as f:\n",
    "            _,oa_number_of_jobs,oa_jobs_breakdown,_,_,_ = pickle.load(f)\n",
    "        M = len(oa_number_of_jobs)\n",
    "\n",
    "        # update the dictionaries\n",
    "        oa_number_of_jobs.update(oa_number_of_jobs2)\n",
    "        oa_jobs_breakdown.update(oa_jobs_breakdown2)\n",
    "    else:\n",
    "        oa_number_of_jobs = oa_number_of_jobs2\n",
    "        oa_jobs_breakdown = oa_jobs_breakdown2\n",
    "        \n",
    "    with open(save_oa_file, 'wb') as f:\n",
    "        pickle.dump((oa_data,oa_number_of_jobs,oa_jobs_breakdown,jobs_socGroups,start_oa,start_oa+ii),f)\n",
    "\n",
    "    oa_number_of_jobs = None\n",
    "    oa_jobs_breakdown = None\n",
    "    print('Done. Time spent saving: {:2f} s'.format(time.time() - t0))"
   ]
  },
  {
   "cell_type": "code",
   "execution_count": 7,
   "metadata": {},
   "outputs": [
    {
     "ename": "NameError",
     "evalue": "name 'missing_oas' is not defined",
     "output_type": "error",
     "traceback": [
      "\u001b[0;31m---------------------------------------------------------------------------\u001b[0m",
      "\u001b[0;31mNameError\u001b[0m                                 Traceback (most recent call last)",
      "\u001b[0;32m<ipython-input-7-041480a907f9>\u001b[0m in \u001b[0;36m<module>\u001b[0;34m\u001b[0m\n\u001b[0;32m----> 1\u001b[0;31m \u001b[0mmissing_oas\u001b[0m\u001b[0;34m\u001b[0m\u001b[0;34m\u001b[0m\u001b[0m\n\u001b[0m",
      "\u001b[0;31mNameError\u001b[0m: name 'missing_oas' is not defined"
     ]
    }
   ],
   "source": [
    "missing_oas"
   ]
  },
  {
   "cell_type": "code",
   "execution_count": null,
   "metadata": {},
   "outputs": [],
   "source": [
    "with open(save_oa_file, 'rb') as f:\n",
    "        _,oa_number_of_jobs,oa_jobs_breakdown,jobs_socGroups,start_oa,end_oa = pickle.load(f)\n",
    "len(oa_number_of_jobs),len(oa_jobs_breakdown)\n"
   ]
  },
  {
   "cell_type": "code",
   "execution_count": null,
   "metadata": {},
   "outputs": [],
   "source": [
    "missing_oas = []\n",
    "for oa in oa_data.index:\n",
    "    if oa not in oa_jobs_breakdown:\n",
    "        print(oa)\n",
    "        missing_oas.append(oa)"
   ]
  },
  {
   "cell_type": "code",
   "execution_count": 10,
   "metadata": {},
   "outputs": [],
   "source": []
  },
  {
   "cell_type": "code",
   "execution_count": 11,
   "metadata": {},
   "outputs": [
    {
     "name": "stdout",
     "output_type": "stream",
     "text": [
      "Number of problematic OAs:  21\n"
     ]
    },
    {
     "ename": "KeyError",
     "evalue": "'S22000047'",
     "output_type": "error",
     "traceback": [
      "\u001b[0;31m---------------------------------------------------------------------------\u001b[0m",
      "\u001b[0;31mKeyError\u001b[0m                                  Traceback (most recent call last)",
      "\u001b[0;32m<ipython-input-11-37cfa4ae940c>\u001b[0m in \u001b[0;36m<module>\u001b[0;34m\u001b[0m\n\u001b[1;32m     15\u001b[0m     \u001b[0mmissing_oas_pcd\u001b[0m \u001b[0;34m=\u001b[0m \u001b[0;34m[\u001b[0m\u001b[0;34m]\u001b[0m\u001b[0;34m\u001b[0m\u001b[0;34m\u001b[0m\u001b[0m\n\u001b[1;32m     16\u001b[0m     \u001b[0;32mfor\u001b[0m \u001b[0mmissing_oa\u001b[0m \u001b[0;32min\u001b[0m \u001b[0mmissing_oas\u001b[0m\u001b[0;34m:\u001b[0m\u001b[0;34m\u001b[0m\u001b[0;34m\u001b[0m\u001b[0m\n\u001b[0;32m---> 17\u001b[0;31m         \u001b[0mgroup\u001b[0m \u001b[0;34m=\u001b[0m \u001b[0mgroups\u001b[0m\u001b[0;34m.\u001b[0m\u001b[0mget_group\u001b[0m\u001b[0;34m(\u001b[0m\u001b[0mmissing_oa\u001b[0m\u001b[0;34m)\u001b[0m\u001b[0;34m\u001b[0m\u001b[0;34m\u001b[0m\u001b[0m\n\u001b[0m\u001b[1;32m     18\u001b[0m         \u001b[0mmissing_oas_pcd\u001b[0m\u001b[0;34m.\u001b[0m\u001b[0mappend\u001b[0m\u001b[0;34m(\u001b[0m\u001b[0mlist\u001b[0m\u001b[0;34m(\u001b[0m\u001b[0mgroup\u001b[0m\u001b[0;34m[\u001b[0m\u001b[0;34m'pcd'\u001b[0m\u001b[0;34m]\u001b[0m\u001b[0;34m)\u001b[0m\u001b[0;34m)\u001b[0m\u001b[0;34m\u001b[0m\u001b[0;34m\u001b[0m\u001b[0m\n\u001b[1;32m     19\u001b[0m \u001b[0;34m\u001b[0m\u001b[0m\n",
      "\u001b[0;32m~/miniconda3/envs/transport/lib/python3.6/site-packages/pandas/core/groupby/groupby.py\u001b[0m in \u001b[0;36mget_group\u001b[0;34m(self, name, obj)\u001b[0m\n\u001b[1;32m    646\u001b[0m         \u001b[0minds\u001b[0m \u001b[0;34m=\u001b[0m \u001b[0mself\u001b[0m\u001b[0;34m.\u001b[0m\u001b[0m_get_index\u001b[0m\u001b[0;34m(\u001b[0m\u001b[0mname\u001b[0m\u001b[0;34m)\u001b[0m\u001b[0;34m\u001b[0m\u001b[0;34m\u001b[0m\u001b[0m\n\u001b[1;32m    647\u001b[0m         \u001b[0;32mif\u001b[0m \u001b[0;32mnot\u001b[0m \u001b[0mlen\u001b[0m\u001b[0;34m(\u001b[0m\u001b[0minds\u001b[0m\u001b[0;34m)\u001b[0m\u001b[0;34m:\u001b[0m\u001b[0;34m\u001b[0m\u001b[0;34m\u001b[0m\u001b[0m\n\u001b[0;32m--> 648\u001b[0;31m             \u001b[0;32mraise\u001b[0m \u001b[0mKeyError\u001b[0m\u001b[0;34m(\u001b[0m\u001b[0mname\u001b[0m\u001b[0;34m)\u001b[0m\u001b[0;34m\u001b[0m\u001b[0;34m\u001b[0m\u001b[0m\n\u001b[0m\u001b[1;32m    649\u001b[0m \u001b[0;34m\u001b[0m\u001b[0m\n\u001b[1;32m    650\u001b[0m         \u001b[0;32mreturn\u001b[0m \u001b[0mobj\u001b[0m\u001b[0;34m.\u001b[0m\u001b[0m_take\u001b[0m\u001b[0;34m(\u001b[0m\u001b[0minds\u001b[0m\u001b[0;34m,\u001b[0m \u001b[0maxis\u001b[0m\u001b[0;34m=\u001b[0m\u001b[0mself\u001b[0m\u001b[0;34m.\u001b[0m\u001b[0maxis\u001b[0m\u001b[0;34m)\u001b[0m\u001b[0;34m\u001b[0m\u001b[0;34m\u001b[0m\u001b[0m\n",
      "\u001b[0;31mKeyError\u001b[0m: 'S22000047'"
     ]
    }
   ],
   "source": [
    "# There are some OAs that I am missing because the API returns that their LONG/LAT is outside of the UK. \n",
    "# The longitude/latitude pair is computed as the average across postcodes belonging to them\n",
    "# To get the data for these OAs, I call the API using one of the postcodes in them \n",
    "# (the first that the ONS postcode directory returns)\n",
    "\n",
    "GETMISSING = True\n",
    "if GETMISSING:\n",
    "\n",
    "    print('Number of problematic OAs: ', len(missing_oas))\n",
    "    # First, I need to load the ONS postcodes directory and group them by OAs\n",
    "    ons_data = pd.read_csv(ons_pc_file)\n",
    "    groups = ons_data.groupby('oa11')\n",
    "\n",
    "    # get the postcode list for the missing OAs\n",
    "    missing_oas_pcd = []\n",
    "    for missing_oa in missing_oas:\n",
    "        group = groups.get_group(missing_oa)\n",
    "        missing_oas_pcd.append(list(group['pcd']))\n",
    "\n",
    "# now call the LMI API using the first postcode\n",
    "APICALL_missed = False\n",
    "if APICALL_missed and GETMISSING:\n",
    "    # for each OA, call the LMIforALL API:\n",
    "    oa_distances2 = {}\n",
    "    oa_occupations2 = {}\n",
    "    oa_residents2 = {}\n",
    "\n",
    "    # actually, there is no need to have the entire pre-stored list while making the new calls, only need to join \n",
    "    # the old and new dictionaries in the end.\n",
    "    t0 = time.time()\n",
    "    # loop through all OAs and call the LMIforALL API\n",
    "    N = 49\n",
    "    failed_oas = [[], []]\n",
    "    for ii,oa in enumerate(missing_oas):\n",
    "        # still skip Channel Island and Isle of Man\n",
    "        if oa[0] in ['L', 'M']:\n",
    "            continue\n",
    "        # mean distances\n",
    "        if oa == 'S00128975':\n",
    "            ipcd = 1\n",
    "        else:\n",
    "            ipcd = 0\n",
    "        #try:\n",
    "        urlname = 'http://api.lmiforall.org.uk/api/v1/census/jobs_breakdown?area={}'.format(\n",
    "        missing_oas_pcd[ii][ipcd].replace(' ',''))\n",
    "        out = requests.get(urlname).json()\n",
    "        oa_number_of_jobs2[oa] = out['totalJobs']\n",
    "        out = out['jobsBreakdown']\n",
    "        tmp = {}\n",
    "        for itmp in out:\n",
    "            # use the socGroup as the key (adding value or pecentage), so that then each SOC will become a column\n",
    "            tmp[itmp['socGroup']+'_value'] = itmp['value']\n",
    "            tmp[itmp['socGroup']+'_percentage'] = itmp['percentage']\n",
    "            # at the same time, keep a list of names associated with socgroups\n",
    "            jobs_socGroups[itmp['socGroup']] = itmp['description']\n",
    "        oa_jobs_breakdown2[oa] = tmp\n",
    "        if ii%(N+1) == N:\n",
    "            print('Done with the last {} OAs. It took {:4f} s'.format(N+1, time.time() - t0))\n",
    "            t0 = time.time()\n",
    "#        except:\n",
    "#            print(oa, out, )\n",
    "#            failed_oas[0].append(oa)\n",
    "#            failed_oas[1].append(out)\n",
    "\n",
    "UPDATE = False\n",
    "if UPDATE and APICALLmissed and GETMISSING:\n",
    "    # now reload the  previously filled dictionary\n",
    "    t0 = time.time()\n",
    "    with open(save_oa_file, 'rb') as f:\n",
    "        _,oa_number_of_jobs,oa_jobs_breakdown,jobs_socGroups,_,_ = pickle.load(f)\n",
    "    M = len(oa_number_of_jobs)\n",
    "\n",
    "    # update the dictionaries\n",
    "    oa_number_of_jobs.update(oa_number_of_jobs2)\n",
    "    oa_jobs_breakdown.update(oa_jobs_breakdown2)\n",
    "    #jobs_socGroups2.update(jobs_socGroups)\n",
    "\n",
    "    # save it\n",
    "    with open(save_oa_file, 'wb') as f:\n",
    "        pickle.dump((oa_data,oa_number_of_jobs,oa_jobs_breakdown,jobs_socGroups,start_oa,start_oa+ii),f)\n",
    "\n",
    "    oa_number_of_jobs = None\n",
    "    oa_jobs_breakdown = None\n",
    "    print('Done. Time spent saving: {:2f} s'.format(time.time() - t0))"
   ]
  },
  {
   "cell_type": "code",
   "execution_count": 12,
   "metadata": {},
   "outputs": [],
   "source": [
    "missing_ttwas = ['N12000001',\n",
    "'N12000002',\n",
    "'N12000003',\n",
    "'N12000005',\n",
    "'N12000006',\n",
    "'N12000009',\n",
    "'N12000010',\n",
    "'S22000047',\n",
    "'S22000049',\n",
    "'S22000051',\n",
    "'S22000054',\n",
    "'S22000055',\n",
    "'S22000056',\n",
    "'S22000057',\n",
    "'S22000059',\n",
    "'S22000060',\n",
    "'S22000061',\n",
    "'S22000063',\n",
    "'S22000065',\n",
    "'S22000067',\n",
    "'S22000068',\n",
    "'S22000069',\n",
    "'S22000070',\n",
    "'S22000071',\n",
    "'S22000074',\n",
    "'S22000075',\n",
    "'S22000078',\n",
    "'S22000085']\n"
   ]
  },
  {
   "cell_type": "code",
   "execution_count": 14,
   "metadata": {},
   "outputs": [],
   "source": [
    "groups = ons_data.groupby('ttwa')"
   ]
  },
  {
   "cell_type": "code",
   "execution_count": 15,
   "metadata": {},
   "outputs": [],
   "source": [
    "group = groups.get_group(missing_ttwas[0])"
   ]
  },
  {
   "cell_type": "code",
   "execution_count": 25,
   "metadata": {},
   "outputs": [
    {
     "name": "stdout",
     "output_type": "stream",
     "text": [
      "N00000586 {'area': {'latitude': 54.79535, 'longitude': -6.095958, 'district': '', 'ward': ''}, 'totalJobs': 792.0, 'jobsBreakdown': [{'socGroup': '411', 'description': 'Administrative Occupations: Government and Related Organisations', 'value': 352.0, 'percentage': 44.44444444444444}, {'socGroup': '522', 'description': 'Metal Machining, Fitting and Instrument Making Trades', 'value': 53.0, 'percentage': 6.691919191919192}, {'socGroup': '350', 'description': 'Not available', 'value': 30.0, 'percentage': 3.787878787878788}, {'socGroup': '415', 'description': 'Other Administrative Occupations', 'value': 27.0, 'percentage': 3.4090909090909087}, {'socGroup': '212', 'description': 'Engineering Professionals', 'value': 26.0, 'percentage': 3.2828282828282833}, {'socGroup': '521', 'description': 'Metal Forming, Welding and Related Trades', 'value': 22.0, 'percentage': 2.7777777777777777}, {'socGroup': '421', 'description': 'Secretarial and Related Occupations', 'value': 21.0, 'percentage': 2.6515151515151514}, {'socGroup': '356', 'description': 'Public Services and Other Associate Professionals', 'value': 21.0, 'percentage': 2.6515151515151514}, {'socGroup': '721', 'description': 'Customer Service Occupations', 'value': 18.0, 'percentage': 2.272727272727273}, {'socGroup': '112', 'description': 'Production Managers and Directors', 'value': 17.0, 'percentage': 2.146464646464646}, {'socGroup': '812', 'description': 'Plant and Machine Operatives', 'value': 16.0, 'percentage': 2.0202020202020203}, {'socGroup': '924', 'description': 'Elementary Security Occupations', 'value': 12.0, 'percentage': 1.5151515151515151}, {'socGroup': '811', 'description': 'Process Operatives', 'value': 11.0, 'percentage': 1.3888888888888888}, {'socGroup': '416', 'description': 'Administrative Occupations: Office Managers and Supervisors', 'value': 10.0, 'percentage': 1.2626262626262625}, {'socGroup': '525', 'description': 'Skilled Metal, Electrical and Electronic Trades Supervisors', 'value': 9.0, 'percentage': 1.1363636363636365}, {'socGroup': '412', 'description': 'Administrative Occupations: Finance', 'value': 8.0, 'percentage': 1.0101010101010102}, {'socGroup': '313', 'description': 'Information Technology Technicians', 'value': 8.0, 'percentage': 1.0101010101010102}, {'socGroup': '311', 'description': 'Science, Engineering and Production Technicians', 'value': 8.0, 'percentage': 1.0101010101010102}, {'socGroup': '113', 'description': 'Functional Managers and Directors', 'value': 8.0, 'percentage': 1.0101010101010102}, {'socGroup': '722', 'description': 'Customer Service Managers and Supervisors', 'value': 7.0, 'percentage': 0.8838383838383838}, {'socGroup': '354', 'description': 'Sales, Marketing and Related Associate Professionals', 'value': 7.0, 'percentage': 0.8838383838383838}, {'socGroup': '242', 'description': 'Business, Research and Administrative Professionals', 'value': 7.0, 'percentage': 0.8838383838383838}, {'socGroup': '125', 'description': 'Managers and Proprietors in Other Services', 'value': 7.0, 'percentage': 0.8838383838383838}, {'socGroup': '822', 'description': 'Mobile Machine Drivers and Operatives', 'value': 6.0, 'percentage': 0.7575757575757576}, {'socGroup': '913', 'description': 'Elementary Process Plant Occupations', 'value': 4.0, 'percentage': 0.5050505050505051}, {'socGroup': '821', 'description': 'Road Transport Drivers', 'value': 4.0, 'percentage': 0.5050505050505051}, {'socGroup': '711', 'description': 'Sales Assistants and Retail Cashiers', 'value': 4.0, 'percentage': 0.5050505050505051}, {'socGroup': '223', 'description': 'Nursing and Midwifery Professionals', 'value': 4.0, 'percentage': 0.5050505050505051}, {'socGroup': '926', 'description': 'Elementary Storage Occupations', 'value': 4.0, 'percentage': 0.5050505050505051}, {'socGroup': '524', 'description': 'Electrical and Electronic Trades', 'value': 4.0, 'percentage': 0.5050505050505051}, {'socGroup': '246', 'description': 'Quality and Regulatory Professionals', 'value': 4.0, 'percentage': 0.5050505050505051}, {'socGroup': '213', 'description': 'Information Technology and Telecommunications Professionals', 'value': 3.0, 'percentage': 0.3787878787878788}, {'socGroup': '813', 'description': 'Assemblers and Routine Operatives', 'value': 3.0, 'percentage': 0.3787878787878788}, {'socGroup': '623', 'description': 'Housekeeping and Related Services', 'value': 2.0, 'percentage': 0.25252525252525254}, {'socGroup': '413', 'description': 'Administrative Occupations: Records', 'value': 2.0, 'percentage': 0.25252525252525254}, {'socGroup': '214', 'description': 'Conservation and Environment Professionals', 'value': 2.0, 'percentage': 0.25252525252525254}, {'socGroup': '814', 'description': 'Construction Operatives', 'value': 2.0, 'percentage': 0.25252525252525254}, {'socGroup': '544', 'description': 'Other Skilled Trades', 'value': 2.0, 'percentage': 0.25252525252525254}, {'socGroup': '543', 'description': 'Food Preparation and Hospitality Trades', 'value': 2.0, 'percentage': 0.25252525252525254}, {'socGroup': '531', 'description': 'Construction and Building Trades', 'value': 2.0, 'percentage': 0.25252525252525254}, {'socGroup': '353', 'description': 'Business, Finance and Related Associate Professionals', 'value': 2.0, 'percentage': 0.25252525252525254}, {'socGroup': '312', 'description': 'Draughtspersons and Related Architectural Technicians', 'value': 2.0, 'percentage': 0.25252525252525254}, {'socGroup': '243', 'description': 'Architects, Town Planners and Surveyors', 'value': 2.0, 'percentage': 0.25252525252525254}, {'socGroup': '231', 'description': 'Teaching and Educational Professionals', 'value': 2.0, 'percentage': 0.25252525252525254}, {'socGroup': '712', 'description': 'Sales Related Occupations', 'value': 1.0, 'percentage': 0.12626262626262627}, {'socGroup': '621', 'description': 'Leisure and Travel Services', 'value': 1.0, 'percentage': 0.12626262626262627}, {'socGroup': '614', 'description': 'Caring Personal Services', 'value': 1.0, 'percentage': 0.12626262626262627}, {'socGroup': '511', 'description': 'Agricultural and Related Trades', 'value': 1.0, 'percentage': 0.12626262626262627}, {'socGroup': '331', 'description': 'Protective Service Occupations', 'value': 1.0, 'percentage': 0.12626262626262627}, {'socGroup': '321', 'description': 'Health Associate Professionals', 'value': 1.0, 'percentage': 0.12626262626262627}, {'socGroup': '927', 'description': 'Other Elementary Services Occupations', 'value': 1.0, 'percentage': 0.12626262626262627}, {'socGroup': '119', 'description': 'Managers and Directors in Retail and Wholesale', 'value': 1.0, 'percentage': 0.12626262626262627}, {'socGroup': '116', 'description': 'Managers and Directors in Transport and Logistics', 'value': 1.0, 'percentage': 0.12626262626262627}, {'socGroup': '912', 'description': 'Elementary Construction Occupations', 'value': 0.0, 'percentage': 0.0}, {'socGroup': '911', 'description': 'Elementary Agricultural Occupations', 'value': 0.0, 'percentage': 0.0}, {'socGroup': '823', 'description': 'Other Drivers and Transport Operatives', 'value': 0.0, 'percentage': 0.0}, {'socGroup': '713', 'description': 'Sales Supervisors', 'value': 0.0, 'percentage': 0.0}, {'socGroup': '624', 'description': 'Cleaning and Housekeeping Managers and Supervisors', 'value': 0.0, 'percentage': 0.0}, {'socGroup': '622', 'description': 'Hairdressers and Related Services', 'value': 0.0, 'percentage': 0.0}, {'socGroup': '613', 'description': 'Animal Care and Control Services', 'value': 0.0, 'percentage': 0.0}, {'socGroup': '612', 'description': 'Childcare and Related Personal Services', 'value': 0.0, 'percentage': 0.0}, {'socGroup': '523', 'description': 'Vehicle Trades', 'value': 0.0, 'percentage': 0.0}, {'socGroup': '344', 'description': 'Sports and Fitness Occupations', 'value': 0.0, 'percentage': 0.0}, {'socGroup': '342', 'description': 'Design Occupations', 'value': 0.0, 'percentage': 0.0}, {'socGroup': '341', 'description': 'Artistic, Literary and Media Occupations', 'value': 0.0, 'percentage': 0.0}, {'socGroup': '323', 'description': 'Welfare and Housing Associate Professionals', 'value': 0.0, 'percentage': 0.0}, {'socGroup': '222', 'description': 'Therapy Professionals', 'value': 0.0, 'percentage': 0.0}, {'socGroup': '221', 'description': 'Health Professionals', 'value': 0.0, 'percentage': 0.0}, {'socGroup': '215', 'description': 'Research and Development Managers ', 'value': 0.0, 'percentage': 0.0}, {'socGroup': '211', 'description': 'Natural and Social Science Professionals', 'value': 0.0, 'percentage': 0.0}, {'socGroup': '111', 'description': 'Chief Executives and Senior Officials', 'value': 0.0, 'percentage': 0.0}, {'socGroup': '925', 'description': 'Elementary Sales Occupations', 'value': 0.0, 'percentage': 0.0}, {'socGroup': '542', 'description': 'Printing Trades', 'value': 0.0, 'percentage': 0.0}, {'socGroup': '541', 'description': 'Textiles and Garments Trades', 'value': 0.0, 'percentage': 0.0}, {'socGroup': '533', 'description': 'Construction and Building Trades Supervisors', 'value': 0.0, 'percentage': 0.0}, {'socGroup': '532', 'description': 'Building Finishing Trades', 'value': 0.0, 'percentage': 0.0}, {'socGroup': '355', 'description': 'Conservation and Environmental associate professionals', 'value': 0.0, 'percentage': 0.0}, {'socGroup': '352', 'description': 'Legal Associate Professionals', 'value': 0.0, 'percentage': 0.0}, {'socGroup': '351', 'description': 'Transport Associate Professionals', 'value': 0.0, 'percentage': 0.0}, {'socGroup': '247', 'description': 'Media Professionals', 'value': 0.0, 'percentage': 0.0}, {'socGroup': '245', 'description': 'Librarians and Related Professionals', 'value': 0.0, 'percentage': 0.0}, {'socGroup': '244', 'description': 'Welfare Professionals', 'value': 0.0, 'percentage': 0.0}, {'socGroup': '241', 'description': 'Legal Professionals', 'value': 0.0, 'percentage': 0.0}, {'socGroup': '124', 'description': 'Managers and Proprietors in Health and Care Services', 'value': 0.0, 'percentage': 0.0}, {'socGroup': '122', 'description': 'Managers and Proprietors in Hospitality and Leisure Services', 'value': 0.0, 'percentage': 0.0}, {'socGroup': '121', 'description': 'Managers and Proprietors in Agriculture Related Services', 'value': 0.0, 'percentage': 0.0}, {'socGroup': '118', 'description': 'Health and Social Services Managers and Directors', 'value': 0.0, 'percentage': 0.0}, {'socGroup': '117', 'description': 'Senior Officers in Protective Services', 'value': 0.0, 'percentage': 0.0}, {'socGroup': '115', 'description': 'Financial Institution Managers and Directors', 'value': 0.0, 'percentage': 0.0}]}\n"
     ]
    }
   ],
   "source": [
    "for row in group.index:\n",
    "    urlname = 'http://api.lmiforall.org.uk/api/v1/census/jobs_breakdown?area={}'.format(group['pcd'].loc[row])\n",
    "    out = requests.get(urlname).json()\n",
    "    print(group['oa11'].loc[row],out)\n",
    "    break\n"
   ]
  },
  {
   "cell_type": "code",
   "execution_count": 26,
   "metadata": {},
   "outputs": [],
   "source": [
    "with open(save_oa_file, 'rb') as f:\n",
    "    _,oa_number_of_jobs,oa_jobs_breakdown,jobs_socGroups,_,_ = pickle.load(f)"
   ]
  },
  {
   "cell_type": "code",
   "execution_count": 27,
   "metadata": {},
   "outputs": [
    {
     "data": {
      "text/plain": [
       "{'411_value': 352.0,\n",
       " '411_percentage': 44.44444444444444,\n",
       " '522_value': 53.0,\n",
       " '522_percentage': 6.691919191919192,\n",
       " '350_value': 30.0,\n",
       " '350_percentage': 3.787878787878788,\n",
       " '415_value': 27.0,\n",
       " '415_percentage': 3.4090909090909087,\n",
       " '212_value': 26.0,\n",
       " '212_percentage': 3.2828282828282833,\n",
       " '521_value': 22.0,\n",
       " '521_percentage': 2.7777777777777777,\n",
       " '421_value': 21.0,\n",
       " '421_percentage': 2.6515151515151514,\n",
       " '356_value': 21.0,\n",
       " '356_percentage': 2.6515151515151514,\n",
       " '721_value': 18.0,\n",
       " '721_percentage': 2.272727272727273,\n",
       " '112_value': 17.0,\n",
       " '112_percentage': 2.146464646464646,\n",
       " '812_value': 16.0,\n",
       " '812_percentage': 2.0202020202020203,\n",
       " '924_value': 12.0,\n",
       " '924_percentage': 1.5151515151515151,\n",
       " '811_value': 11.0,\n",
       " '811_percentage': 1.3888888888888888,\n",
       " '416_value': 10.0,\n",
       " '416_percentage': 1.2626262626262625,\n",
       " '525_value': 9.0,\n",
       " '525_percentage': 1.1363636363636365,\n",
       " '412_value': 8.0,\n",
       " '412_percentage': 1.0101010101010102,\n",
       " '313_value': 8.0,\n",
       " '313_percentage': 1.0101010101010102,\n",
       " '311_value': 8.0,\n",
       " '311_percentage': 1.0101010101010102,\n",
       " '113_value': 8.0,\n",
       " '113_percentage': 1.0101010101010102,\n",
       " '722_value': 7.0,\n",
       " '722_percentage': 0.8838383838383838,\n",
       " '354_value': 7.0,\n",
       " '354_percentage': 0.8838383838383838,\n",
       " '242_value': 7.0,\n",
       " '242_percentage': 0.8838383838383838,\n",
       " '125_value': 7.0,\n",
       " '125_percentage': 0.8838383838383838,\n",
       " '822_value': 6.0,\n",
       " '822_percentage': 0.7575757575757576,\n",
       " '913_value': 4.0,\n",
       " '913_percentage': 0.5050505050505051,\n",
       " '821_value': 4.0,\n",
       " '821_percentage': 0.5050505050505051,\n",
       " '711_value': 4.0,\n",
       " '711_percentage': 0.5050505050505051,\n",
       " '223_value': 4.0,\n",
       " '223_percentage': 0.5050505050505051,\n",
       " '926_value': 4.0,\n",
       " '926_percentage': 0.5050505050505051,\n",
       " '524_value': 4.0,\n",
       " '524_percentage': 0.5050505050505051,\n",
       " '246_value': 4.0,\n",
       " '246_percentage': 0.5050505050505051,\n",
       " '213_value': 3.0,\n",
       " '213_percentage': 0.3787878787878788,\n",
       " '813_value': 3.0,\n",
       " '813_percentage': 0.3787878787878788,\n",
       " '623_value': 2.0,\n",
       " '623_percentage': 0.25252525252525254,\n",
       " '413_value': 2.0,\n",
       " '413_percentage': 0.25252525252525254,\n",
       " '214_value': 2.0,\n",
       " '214_percentage': 0.25252525252525254,\n",
       " '814_value': 2.0,\n",
       " '814_percentage': 0.25252525252525254,\n",
       " '544_value': 2.0,\n",
       " '544_percentage': 0.25252525252525254,\n",
       " '543_value': 2.0,\n",
       " '543_percentage': 0.25252525252525254,\n",
       " '531_value': 2.0,\n",
       " '531_percentage': 0.25252525252525254,\n",
       " '353_value': 2.0,\n",
       " '353_percentage': 0.25252525252525254,\n",
       " '312_value': 2.0,\n",
       " '312_percentage': 0.25252525252525254,\n",
       " '243_value': 2.0,\n",
       " '243_percentage': 0.25252525252525254,\n",
       " '231_value': 2.0,\n",
       " '231_percentage': 0.25252525252525254,\n",
       " '712_value': 1.0,\n",
       " '712_percentage': 0.12626262626262627,\n",
       " '621_value': 1.0,\n",
       " '621_percentage': 0.12626262626262627,\n",
       " '614_value': 1.0,\n",
       " '614_percentage': 0.12626262626262627,\n",
       " '511_value': 1.0,\n",
       " '511_percentage': 0.12626262626262627,\n",
       " '331_value': 1.0,\n",
       " '331_percentage': 0.12626262626262627,\n",
       " '321_value': 1.0,\n",
       " '321_percentage': 0.12626262626262627,\n",
       " '927_value': 1.0,\n",
       " '927_percentage': 0.12626262626262627,\n",
       " '119_value': 1.0,\n",
       " '119_percentage': 0.12626262626262627,\n",
       " '116_value': 1.0,\n",
       " '116_percentage': 0.12626262626262627,\n",
       " '912_value': 0.0,\n",
       " '912_percentage': 0.0,\n",
       " '911_value': 0.0,\n",
       " '911_percentage': 0.0,\n",
       " '823_value': 0.0,\n",
       " '823_percentage': 0.0,\n",
       " '713_value': 0.0,\n",
       " '713_percentage': 0.0,\n",
       " '624_value': 0.0,\n",
       " '624_percentage': 0.0,\n",
       " '622_value': 0.0,\n",
       " '622_percentage': 0.0,\n",
       " '613_value': 0.0,\n",
       " '613_percentage': 0.0,\n",
       " '612_value': 0.0,\n",
       " '612_percentage': 0.0,\n",
       " '523_value': 0.0,\n",
       " '523_percentage': 0.0,\n",
       " '344_value': 0.0,\n",
       " '344_percentage': 0.0,\n",
       " '342_value': 0.0,\n",
       " '342_percentage': 0.0,\n",
       " '341_value': 0.0,\n",
       " '341_percentage': 0.0,\n",
       " '323_value': 0.0,\n",
       " '323_percentage': 0.0,\n",
       " '222_value': 0.0,\n",
       " '222_percentage': 0.0,\n",
       " '221_value': 0.0,\n",
       " '221_percentage': 0.0,\n",
       " '215_value': 0.0,\n",
       " '215_percentage': 0.0,\n",
       " '211_value': 0.0,\n",
       " '211_percentage': 0.0,\n",
       " '111_value': 0.0,\n",
       " '111_percentage': 0.0,\n",
       " '925_value': 0.0,\n",
       " '925_percentage': 0.0,\n",
       " '542_value': 0.0,\n",
       " '542_percentage': 0.0,\n",
       " '541_value': 0.0,\n",
       " '541_percentage': 0.0,\n",
       " '533_value': 0.0,\n",
       " '533_percentage': 0.0,\n",
       " '532_value': 0.0,\n",
       " '532_percentage': 0.0,\n",
       " '355_value': 0.0,\n",
       " '355_percentage': 0.0,\n",
       " '352_value': 0.0,\n",
       " '352_percentage': 0.0,\n",
       " '351_value': 0.0,\n",
       " '351_percentage': 0.0,\n",
       " '247_value': 0.0,\n",
       " '247_percentage': 0.0,\n",
       " '245_value': 0.0,\n",
       " '245_percentage': 0.0,\n",
       " '244_value': 0.0,\n",
       " '244_percentage': 0.0,\n",
       " '241_value': 0.0,\n",
       " '241_percentage': 0.0,\n",
       " '124_value': 0.0,\n",
       " '124_percentage': 0.0,\n",
       " '122_value': 0.0,\n",
       " '122_percentage': 0.0,\n",
       " '121_value': 0.0,\n",
       " '121_percentage': 0.0,\n",
       " '118_value': 0.0,\n",
       " '118_percentage': 0.0,\n",
       " '117_value': 0.0,\n",
       " '117_percentage': 0.0,\n",
       " '115_value': 0.0,\n",
       " '115_percentage': 0.0}"
      ]
     },
     "execution_count": 27,
     "metadata": {},
     "output_type": "execute_result"
    }
   ],
   "source": [
    "oa_jobs_breakdown['N00000586']"
   ]
  },
  {
   "cell_type": "code",
   "execution_count": null,
   "metadata": {},
   "outputs": [],
   "source": []
  },
  {
   "cell_type": "code",
   "execution_count": null,
   "metadata": {},
   "outputs": [],
   "source": []
  },
  {
   "cell_type": "code",
   "execution_count": null,
   "metadata": {},
   "outputs": [],
   "source": [
    "'''\n",
    "Check memory usage of all variables\n",
    "'''\n",
    "\n",
    "import sys\n",
    "\n",
    "# These are the usual ipython objects, including this one you are creating\n",
    "ipython_vars = ['In', 'Out', 'exit', 'quit', 'get_ipython', 'ipython_vars']\n",
    "\n",
    "# Get a sorted list of the objects and their sizes\n",
    "sorted([(x, sys.getsizeof(globals().get(x))) for x in dir() if not x.startswith('_') \n",
    "        and x not in sys.modules and x not in ipython_vars], key=lambda x: x[1], reverse=True)\n"
   ]
  },
  {
   "cell_type": "code",
   "execution_count": null,
   "metadata": {},
   "outputs": [],
   "source": []
  },
  {
   "cell_type": "code",
   "execution_count": null,
   "metadata": {},
   "outputs": [],
   "source": []
  },
  {
   "cell_type": "code",
   "execution_count": null,
   "metadata": {},
   "outputs": [],
   "source": []
  },
  {
   "cell_type": "code",
   "execution_count": null,
   "metadata": {},
   "outputs": [],
   "source": []
  },
  {
   "cell_type": "code",
   "execution_count": null,
   "metadata": {},
   "outputs": [],
   "source": []
  },
  {
   "cell_type": "code",
   "execution_count": null,
   "metadata": {},
   "outputs": [],
   "source": []
  },
  {
   "cell_type": "code",
   "execution_count": null,
   "metadata": {},
   "outputs": [],
   "source": []
  },
  {
   "cell_type": "code",
   "execution_count": null,
   "metadata": {},
   "outputs": [],
   "source": []
  }
 ],
 "metadata": {
  "kernelspec": {
   "display_name": "Python 3",
   "language": "python",
   "name": "python3"
  },
  "language_info": {
   "codemirror_mode": {
    "name": "ipython",
    "version": 3
   },
   "file_extension": ".py",
   "mimetype": "text/x-python",
   "name": "python",
   "nbconvert_exporter": "python",
   "pygments_lexer": "ipython3",
   "version": "3.6.8"
  }
 },
 "nbformat": 4,
 "nbformat_minor": 2
}
